{
 "cells": [
  {
   "cell_type": "markdown",
   "id": "d790fadf-9301-49ce-b0cd-de54500f07d8",
   "metadata": {},
   "source": [
    "# Step 6: Video generation with Inpainting\n",
    "\n",
    "\n",
    "This notebook demonstrates how to enhance existing images using inpainting techniques and then generate videos featuring those enhanced images. The workflow combines Amazon Bedrock's image generation capabilities with video generation to create dynamic visual content by first searching for relevant images in Amazon OpenSearch using natural language queries and retrieving image files and their metadata from Amazon S3. It then uses two different inpainting approaches - the Mask Prompt Method which uses text descriptions to identify areas for modification, and the Mask Image Method which uses explicit image masks to define areas for modification.\n",
    "\n",
    "\n",
    "The notebook applies Amazon Bedrock's Nova-Canvas model to generate creative additions to images, such as adding a party hat to a dog's image in our example. After enhancing the image, it uploads the result to Amazon S3, uses the inpainted image as input for video generation, adds dynamic camera movements based on prompts, and finally generates and displays a short video featuring the enhanced image. This process demonstrates how to seamlessly integrate image enhancement with video creation for compelling visual content."
   ]
  },
  {
   "cell_type": "markdown",
   "id": "d3f02f28-62f2-43c4-adda-e68ea76f5486",
   "metadata": {},
   "source": [
    "## Table of Contents\n",
    "\n",
    "1. [Setup and Dependencies](#Setup-and-Dependencies)\n",
    "2. [Query OSS](#Query-OSS)\n",
    "3. [Inpainting with Mask Image](#Inpainting-with-Mask-Image)\n",
    "4. [Video generation using the inpainted image](#Video-generation-using-the-inpainted-image)\n",
    "\n",
    "***"
   ]
  },
  {
   "metadata": {},
   "cell_type": "markdown",
   "source": [
    "<div class=\"alert alert-block alert-info\">\n",
    "<b>Note:</b> Ensure that you are using the python kernel <b>conda_python3</b>\n",
    "</div>"
   ],
   "id": "eb02622e6f7ab33f"
  },
  {
   "cell_type": "markdown",
   "id": "70022fd1-9bb6-43a3-ad22-81dd1bdb70b5",
   "metadata": {},
   "source": [
    "## Setup and Dependencies\n",
    "\n",
    "First, we'll import the necessary libraries and modules. We'll also import functions from our previous notebooks to avoid code duplication."
   ]
  },
  {
   "cell_type": "code",
   "id": "98607afd-1a12-440e-b237-a9f85a6e2a4c",
   "metadata": {
    "tags": []
   },
   "source": [
    "import nbimporter\n",
    "import base64\n",
    "import boto3\n",
    "from botocore.exceptions import ClientError\n",
    "import os\n",
    "\n",
    "from _01_oss_ingestion import query_open_search, get_oss_client\n",
    "from _02_video_gen_text_only import monitor_video_generation, download_and_display_video, start_video_generation\n",
    "from _03_video_gen_text_image import build_model_input\n",
    "from _05_inpainting import generate_image, ImageMasking"
   ],
   "outputs": [],
   "execution_count": null
  },
  {
   "cell_type": "code",
   "id": "2f86d5de-91f7-46d1-855c-6ab9ef891a63",
   "metadata": {
    "tags": []
   },
   "source": [
    "%store -r REGION\n",
    "%store -r COLLECTION_ENDPOINT\n",
    "%store -r INDEX_NAME\n",
    "%store -r OUTPUT_DIR\n",
    "%store -r BUCKET\n",
    "\n",
    "bedrock_runtime_client = boto3.client(\"bedrock-runtime\", REGION)\n",
    "s3_client = boto3.client('s3')\n",
    "image_generation_model_id = \"amazon.nova-canvas-v1:0\""
   ],
   "outputs": [],
   "execution_count": null
  },
  {
   "cell_type": "markdown",
   "id": "5efe8d0d-476e-40ef-9fab-595df75b55b9",
   "metadata": {},
   "source": [
    "## Query OSS\n",
    "\n",
    "This code segment establishes a connection to OpenSearch Service by creating an oss_client using the get_oss_client function with the provided collection endpoint and region parameters. It then sets up an image prompt \"the dog looks to the left\" and queries the OpenSearch index to find matching images using the query_open_search function, limiting the results to the top match.\n",
    "\n",
    "\n",
    "After retrieving the search results, the code extracts the S3 key for both the base64-encoded image and the original image by parsing the respective URI paths from the search result. Finally, it obtains the base filename by extracting just the name portion without the file extension from the image's S3 key."
   ]
  },
  {
   "cell_type": "code",
   "id": "202ddb4b-0934-496c-a9fd-1f062f9defbe",
   "metadata": {
    "tags": []
   },
   "source": [
    "oss_client = get_oss_client(COLLECTION_ENDPOINT, REGION)"
   ],
   "outputs": [],
   "execution_count": null
  },
  {
   "cell_type": "code",
   "id": "14be4d8a-0348-4277-ac9f-50606b4c042a",
   "metadata": {
    "tags": []
   },
   "source": [
    "image_prompt = \"dog\"\n",
    "results = query_open_search(bedrock_runtime=bedrock_runtime_client, oss_client=oss_client, index_name=INDEX_NAME, prompt=image_prompt, top_k=1)"
   ],
   "outputs": [],
   "execution_count": null
  },
  {
   "cell_type": "code",
   "id": "ca14bb34-910e-4aca-9177-e6223e0834a7",
   "metadata": {
    "tags": []
   },
   "source": [
    "image_base64_s3_key = \"/\".join(results[0]['_source']['image_base64_s3_uri'].split('/')[3:])"
   ],
   "outputs": [],
   "execution_count": null
  },
  {
   "cell_type": "code",
   "id": "09ccf537-be80-4c60-8d3c-88a41f322e64",
   "metadata": {
    "tags": []
   },
   "source": [
    "image_s3_key = \"/\".join(results[0]['_source']['image_s3_uri'].split('/')[3:])"
   ],
   "outputs": [],
   "execution_count": null
  },
  {
   "cell_type": "code",
   "id": "7f42e34a-7f63-4143-b8b4-af7aba3ea25a",
   "metadata": {
    "tags": []
   },
   "source": [
    "base_file_name = image_s3_key.split('/')[-1].split('.')[0]"
   ],
   "outputs": [],
   "execution_count": null
  },
  {
   "cell_type": "markdown",
   "id": "19680248-5a2d-4fd1-8efa-673bd5b0187f",
   "metadata": {
    "tags": []
   },
   "source": [
    "## Inpainting with Mask Image\n",
    "\n",
    "This code snippet sets up an image inpainting process that modifies a dog photo using a precisely defined mask image. First, it initializes an ImageMasking object with S3 parameters to handle the masking operations, providing the S3 client, bucket name, file key of the source image, and the base filename for organizational purposes. Then, it calls the generate_image function to perform the actual image generation, referencing both the base64-encoded and standard S3 keys of the original image. \n",
    "\n",
    "Key features of Image Masker:\n",
    "\n",
    "* Interactive sliders to adjust the position and dimensions of a rectangular mask\n",
    "* A real-time visual preview showing a red rectangle representing the current mask area\n",
    "* \"Save Mask\" button that saves both the mask and the original image to a local directory structure (images/inpainting/[base_file_name])\n",
    "* \"Clear Selection\" button to reset the mask parameters\n",
    "* The saved mask uses white (255) for areas outside the selection and black (0) for the selected area\n",
    "* Both the mask and original image are resized to 1280x720 resolution before saving"
   ]
  },
  {
   "cell_type": "code",
   "id": "724b73bd-fe9c-406b-bb6d-2869fabe9be2",
   "metadata": {
    "tags": []
   },
   "source": [
    "# Create the ImageMasking instance with S3 parameters\n",
    "image_masker = ImageMasking(s3_client, bucket_name=BUCKET, file_key=image_s3_key, base_file_name=base_file_name)"
   ],
   "outputs": [],
   "execution_count": null
  },
  {
   "metadata": {},
   "cell_type": "markdown",
   "source": "Save the image mask",
   "id": "4dcb5f0d5b9b3d01"
  },
  {
   "metadata": {},
   "cell_type": "code",
   "outputs": [],
   "execution_count": null,
   "source": "image_masker.save_mask()",
   "id": "45fb31861f123865"
  },
  {
   "metadata": {},
   "cell_type": "markdown",
   "source": "Using mask image",
   "id": "bb01f71923ceda2"
  },
  {
   "cell_type": "code",
   "id": "5fbd69fb-8f01-4386-828e-3ad40cd3748a",
   "metadata": {
    "tags": []
   },
   "source": [
    "generate_image(\n",
    "    image_base64_s3_key=image_base64_s3_key,\n",
    "    image_s3_key=image_s3_key,\n",
    "    bucket=BUCKET,\n",
    "    s3_client=s3_client,\n",
    "    bedrock_runtime_client=bedrock_runtime_client,\n",
    "    image_generation_model_id=image_generation_model_id,\n",
    "    output_image_path=f\"images/inpainting/{base_file_name}/mask_image.jpg\",\n",
    "    text=\"a dog with a colorful pointed party birthday hat with stripes and polka dots\",\n",
    "    negative_text=\"blur, distortion\",\n",
    "    seed=42,\n",
    "    mask_image_path=f\"images/inpainting/{base_file_name}/mask.png\",\n",
    "    num_images=4,\n",
    "    save_all=True\n",
    ")"
   ],
   "outputs": [],
   "execution_count": null
  },
  {
   "cell_type": "markdown",
   "id": "18002932-d9ed-41ed-9c8f-a4a293a77307",
   "metadata": {},
   "source": [
    "## Video generation using the inpainted image\n",
    "\n",
    "\n",
    "This code snippet demonstrates a workflow for generating a dynamic video from an inpainted image. The process begins by defining an action prompt describing the desired camera movement as a \"dynamic handheld shot.\" The code then includes a function called upload_file_to_s3 that converts a local image file to base64 encoding before uploading it to an Amazon S3 bucket, handling any potential errors during the process. Two helper functions follow: read_s3_text retrieves text content from S3, and vrag (video generation) builds a model input combining the action prompt with the base64-encoded image, specifying video parameters like duration (6 seconds), frame rate (24 fps), and resolution (1280x720). The code then initiates video generation through Amazon Bedrock Runtime, monitors the generation process until completion, and finally downloads and displays the resulting video"
   ]
  },
  {
   "cell_type": "code",
   "id": "a27fe208-224a-47d9-a592-b647c2c77585",
   "metadata": {
    "tags": []
   },
   "source": [
    "action_prompt = \"A tight ground-level shot capturing dog\""
   ],
   "outputs": [],
   "execution_count": null
  },
  {
   "cell_type": "code",
   "id": "e7af03b3-f2f4-4956-8bc3-b54c97ce57d4",
   "metadata": {
    "tags": []
   },
   "source": [
    "def upload_file_to_s3(local_file_path, bucket_name, key_file):\n",
    "    \"\"\"\n",
    "    Upload a local file to an S3 bucket after converting it to base64\n",
    "    \n",
    "    Parameters:\n",
    "    local_file_path (str): The path to the local file\n",
    "    bucket_name (str): The name of the S3 bucket\n",
    "    key_file (str): The key (path/filename) under which the file will be stored in S3\n",
    "    \n",
    "    Returns:\n",
    "    bool: True if file was uploaded, False otherwise\n",
    "    \"\"\"\n",
    "    try:\n",
    "        # Read the image file and convert to base64\n",
    "        with open(local_file_path, 'rb') as image_file:\n",
    "            encoded_string = base64.b64encode(image_file.read()).decode('utf-8')\n",
    "        \n",
    "        # Upload the base64 string directly to S3\n",
    "        s3_client.put_object(\n",
    "            Body=encoded_string,\n",
    "            Bucket=bucket_name,\n",
    "            Key=key_file\n",
    "        )\n",
    "        \n",
    "        print(f\"Successfully uploaded base64-encoded {local_file_path} to {bucket_name}/{key_file}\")\n",
    "        return True\n",
    "        \n",
    "    except ClientError as e:\n",
    "        print(f\"Error uploading file to S3: {e}\")\n",
    "        return False\n",
    "    except Exception as e:\n",
    "        print(f\"Error processing file: {e}\")\n",
    "        return False"
   ],
   "outputs": [],
   "execution_count": null
  },
  {
   "cell_type": "code",
   "id": "42681e9b-9345-431f-abe7-01c4167ac73c",
   "metadata": {
    "tags": []
   },
   "source": [
    "inpainted_image_local_path = \"images/inpainting/dog/mask_image_1.jpg\"\n",
    "inpainted_image_s3_key_file = \"inpainted_images/dog.jpg\"\n",
    "\n",
    "upload_file_to_s3(inpainted_image_local_path, BUCKET , inpainted_image_s3_key_file)"
   ],
   "outputs": [],
   "execution_count": null
  },
  {
   "cell_type": "code",
   "id": "2d652e1b-bcc3-488e-94ce-5b620f371456",
   "metadata": {
    "tags": []
   },
   "source": [
    "def read_s3_text(bucket_name, file_key):\n",
    "    try:\n",
    "        response = s3_client.get_object(Bucket=bucket_name, Key=file_key)\n",
    "        text_content = response['Body'].read().decode('utf-8')\n",
    "        return text_content\n",
    "    except Exception as e:\n",
    "        print(f\"Error reading file from S3: {e}\")\n",
    "        return None"
   ],
   "outputs": [],
   "execution_count": null
  },
  {
   "cell_type": "code",
   "id": "c38e13c2-8954-4f34-bc42-264560f794a4",
   "metadata": {
    "tags": []
   },
   "source": [
    "def vrag(image_prompt, camera_prompt):\n",
    "    model_input = build_model_input(action_prompt, image_base64=read_s3_text(BUCKET,inpainted_image_s3_key_file), duration=6, fps=24, resolution=\"1280x720\", seed=0)\n",
    "    invocation = start_video_generation(bedrock_runtime_client, BUCKET, model_input)\n",
    "    return monitor_video_generation(bedrock_runtime_client, invocation[\"invocationArn\"])"
   ],
   "outputs": [],
   "execution_count": null
  },
  {
   "cell_type": "code",
   "id": "846002db-d2c2-40d2-8d87-7bea567d269e",
   "metadata": {
    "tags": []
   },
   "source": [
    "video_uri = vrag(image_prompt, image_prompt+action_prompt)"
   ],
   "outputs": [],
   "execution_count": null
  },
  {
   "cell_type": "code",
   "id": "74be271e-5a2b-426c-9efb-14211127de55",
   "metadata": {
    "tags": []
   },
   "source": [
    "download_and_display_video(s3_client, BUCKET, video_uri, OUTPUT_DIR)"
   ],
   "outputs": [],
   "execution_count": null
  },
  {
   "cell_type": "code",
   "id": "66b3c3f8-a4c7-42d8-b9d9-3d3fb2658f88",
   "metadata": {},
   "source": [],
   "outputs": [],
   "execution_count": null
  }
 ],
 "metadata": {
  "kernelspec": {
   "display_name": "conda_pytorch_p310",
   "language": "python",
   "name": "conda_pytorch_p310"
  },
  "language_info": {
   "codemirror_mode": {
    "name": "ipython",
    "version": 3
   },
   "file_extension": ".py",
   "mimetype": "text/x-python",
   "name": "python",
   "nbconvert_exporter": "python",
   "pygments_lexer": "ipython3",
   "version": "3.10.14"
  }
 },
 "nbformat": 4,
 "nbformat_minor": 5
}
